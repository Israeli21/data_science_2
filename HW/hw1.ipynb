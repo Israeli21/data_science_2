{
 "cells": [
  {
   "cell_type": "code",
   "execution_count": null,
   "id": "6d837d63-4970-4320-ba08-4447b65ba81c",
   "metadata": {},
   "outputs": [],
   "source": []
  }
 ],
 "metadata": {
  "kernelspec": {
   "display_name": "",
   "name": ""
  },
  "language_info": {
   "name": ""
  }
 },
 "nbformat": 4,
 "nbformat_minor": 5
}
