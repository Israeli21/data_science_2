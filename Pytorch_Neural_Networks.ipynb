{
 "cells": [
  {
   "cell_type": "markdown",
   "id": "5e3968f8-be8e-40c5-9b22-bd59386a5de6",
   "metadata": {},
   "source": [
    "# Pytorch Neural Networks"
   ]
  },
  {
   "cell_type": "markdown",
   "id": "10525105-84fe-4cad-8166-7d2cffdc6986",
   "metadata": {},
   "source": [
    "## Loading our Data\n",
    "In the following code, we will get our dataset from the torchvision library. This dataset has a ton of images that we can use to train our network. MNIST"
   ]
  },
  {
   "cell_type": "markdown",
   "id": "779be7d5-8110-4149-b89d-c18d67e12d15",
   "metadata": {},
   "source": [
    "### Transformer\n",
    "The raw images are not readable by our model so we need to convert them into PyTorch tensors before we do anything. We can do this by using torchvision's ToTensor() method"
   ]
  },
  {
   "cell_type": "markdown",
   "id": "bcce995e-e002-4c86-b32d-fe8a8e780bce",
   "metadata": {},
   "source": [
    "Along with converting the images into PyTorch Tensors, the ToTensor method will also scale the pixel values from [0, 255] to [0.0, 1.0] We use transforms.Compose here so we can chain together multiple transformers in the future (like transforms.Normalize()).\n",
    "\n",
    "Next, we import our datasets from torchvision.datasets. This dataset has a pre-defined split: 60,000 images for the Train=True and 10,000 for the Train=False."
   ]
  },
  {
   "cell_type": "code",
   "execution_count": 1,
   "id": "768b52a6-322a-43e1-be58-504947bb44d1",
   "metadata": {
    "scrolled": true
   },
   "outputs": [
    {
     "name": "stdout",
     "output_type": "stream",
     "text": [
      "Requirement already satisfied: torch in c:\\users\\isrtr\\anaconda3\\lib\\site-packages (2.8.0)Note: you may need to restart the kernel to use updated packages.\n",
      "\n",
      "Requirement already satisfied: filelock in c:\\users\\isrtr\\anaconda3\\lib\\site-packages (from torch) (3.13.1)\n",
      "Requirement already satisfied: typing-extensions>=4.10.0 in c:\\users\\isrtr\\anaconda3\\lib\\site-packages (from torch) (4.11.0)\n",
      "Requirement already satisfied: sympy>=1.13.3 in c:\\users\\isrtr\\anaconda3\\lib\\site-packages (from torch) (1.14.0)\n",
      "Requirement already satisfied: networkx in c:\\users\\isrtr\\anaconda3\\lib\\site-packages (from torch) (3.3)\n",
      "Requirement already satisfied: jinja2 in c:\\users\\isrtr\\anaconda3\\lib\\site-packages (from torch) (3.1.4)\n",
      "Requirement already satisfied: fsspec in c:\\users\\isrtr\\anaconda3\\lib\\site-packages (from torch) (2024.6.1)\n",
      "Requirement already satisfied: setuptools in c:\\users\\isrtr\\anaconda3\\lib\\site-packages (from torch) (75.1.0)\n",
      "Requirement already satisfied: mpmath<1.4,>=1.1.0 in c:\\users\\isrtr\\anaconda3\\lib\\site-packages (from sympy>=1.13.3->torch) (1.3.0)\n",
      "Requirement already satisfied: MarkupSafe>=2.0 in c:\\users\\isrtr\\anaconda3\\lib\\site-packages (from jinja2->torch) (2.1.3)\n",
      "Requirement already satisfied: torchvision in c:\\users\\isrtr\\anaconda3\\lib\\site-packages (0.23.0)\n",
      "Requirement already satisfied: numpy in c:\\users\\isrtr\\anaconda3\\lib\\site-packages (from torchvision) (1.26.4)\n",
      "Requirement already satisfied: torch==2.8.0 in c:\\users\\isrtr\\anaconda3\\lib\\site-packages (from torchvision) (2.8.0)\n",
      "Requirement already satisfied: pillow!=8.3.*,>=5.3.0 in c:\\users\\isrtr\\anaconda3\\lib\\site-packages (from torchvision) (10.4.0)\n",
      "Requirement already satisfied: filelock in c:\\users\\isrtr\\anaconda3\\lib\\site-packages (from torch==2.8.0->torchvision) (3.13.1)\n",
      "Requirement already satisfied: typing-extensions>=4.10.0 in c:\\users\\isrtr\\anaconda3\\lib\\site-packages (from torch==2.8.0->torchvision) (4.11.0)\n",
      "Requirement already satisfied: sympy>=1.13.3 in c:\\users\\isrtr\\anaconda3\\lib\\site-packages (from torch==2.8.0->torchvision) (1.14.0)\n",
      "Requirement already satisfied: networkx in c:\\users\\isrtr\\anaconda3\\lib\\site-packages (from torch==2.8.0->torchvision) (3.3)\n",
      "Requirement already satisfied: jinja2 in c:\\users\\isrtr\\anaconda3\\lib\\site-packages (from torch==2.8.0->torchvision) (3.1.4)\n",
      "Requirement already satisfied: fsspec in c:\\users\\isrtr\\anaconda3\\lib\\site-packages (from torch==2.8.0->torchvision) (2024.6.1)\n",
      "Requirement already satisfied: setuptools in c:\\users\\isrtr\\anaconda3\\lib\\site-packages (from torch==2.8.0->torchvision) (75.1.0)\n",
      "Requirement already satisfied: mpmath<1.4,>=1.1.0 in c:\\users\\isrtr\\anaconda3\\lib\\site-packages (from sympy>=1.13.3->torch==2.8.0->torchvision) (1.3.0)\n",
      "Requirement already satisfied: MarkupSafe>=2.0 in c:\\users\\isrtr\\anaconda3\\lib\\site-packages (from jinja2->torch==2.8.0->torchvision) (2.1.3)\n",
      "Note: you may need to restart the kernel to use updated packages.\n"
     ]
    }
   ],
   "source": [
    "# Installing pytorch:\n",
    "%pip install torch\n",
    "%pip install torchvision"
   ]
  },
  {
   "cell_type": "code",
   "execution_count": 2,
   "id": "7a0266d7-dfc3-45d6-abe8-a9cde6307fd9",
   "metadata": {},
   "outputs": [
    {
     "name": "stderr",
     "output_type": "stream",
     "text": [
      "100%|██████████| 9.91M/9.91M [00:00<00:00, 11.4MB/s]\n",
      "100%|██████████| 28.9k/28.9k [00:00<00:00, 581kB/s]\n",
      "100%|██████████| 1.65M/1.65M [00:00<00:00, 5.12MB/s]\n",
      "100%|██████████| 4.54k/4.54k [00:00<?, ?B/s]\n"
     ]
    }
   ],
   "source": [
    "import torch\n",
    "from torchvision import transforms, datasets # Contains our MNIST dataset and a transformer to convert the PIL images into PyTorch Tensors.\n",
    "\n",
    "transformer = transforms.Compose([\n",
    "    transforms.ToTensor(), # Convert the image to a PyTorch Tensor\n",
    "])\n",
    "\n",
    "train_dataset = datasets.MNIST(\n",
    "    root='./data', \n",
    "    train=True, \n",
    "    transform=transformer, \n",
    "    download=True\n",
    ")\n",
    "\n",
    "test_dataset = datasets.MNIST(\n",
    "    root='./data', \n",
    "    train=False, \n",
    "    transform=transformer, \n",
    "    download=True\n",
    ")"
   ]
  },
  {
   "cell_type": "code",
   "execution_count": null,
   "id": "5b677d7a-74e9-49ee-b1ec-1afe0e7057c7",
   "metadata": {},
   "outputs": [],
   "source": []
  }
 ],
 "metadata": {
  "kernelspec": {
   "display_name": "Python [conda env:base] *",
   "language": "python",
   "name": "conda-base-py"
  },
  "language_info": {
   "codemirror_mode": {
    "name": "ipython",
    "version": 3
   },
   "file_extension": ".py",
   "mimetype": "text/x-python",
   "name": "python",
   "nbconvert_exporter": "python",
   "pygments_lexer": "ipython3",
   "version": "3.12.3"
  }
 },
 "nbformat": 4,
 "nbformat_minor": 5
}
