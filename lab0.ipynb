{
 "cells": [
  {
   "cell_type": "markdown",
   "id": "97cbcdf2-e6a3-4da0-9e84-acfb516a4122",
   "metadata": {},
   "source": [
    "# Lab 0\n",
    "#### August 28, 2025"
   ]
  },
  {
   "cell_type": "markdown",
   "id": "5954be5a-b125-4d27-be18-f17b57dbd935",
   "metadata": {},
   "source": [
    "### 1. Crash Course Review Exercises"
   ]
  },
  {
   "cell_type": "code",
   "execution_count": 6,
   "id": "a3c35077-f220-4d6d-beef-6d952b1110bf",
   "metadata": {
    "scrolled": true
   },
   "outputs": [
    {
     "name": "stdout",
     "output_type": "stream",
     "text": [
      "[[96 12 82 71 64]\n",
      " [88 76 10 78 41]\n",
      " [ 5 64 41 61 93]\n",
      " [65  6 13 94 41]\n",
      " [50 84  9 30 60]\n",
      " [35 45 73 20 11]\n",
      " [77 96 88  1 74]\n",
      " [ 9 63 37 84 29]\n",
      " [64  8 11 53 57]\n",
      " [39 74 53 19 72]\n",
      " [16 45  1 13 18]\n",
      " [76 80 98 94 25]\n",
      " [37 64 20 36 31]\n",
      " [11 61 21 28  9]\n",
      " [87 27 88 47 48]\n",
      " [55 87 10 46  3]\n",
      " [19 59 93 12 11]\n",
      " [95 36 29  4 84]\n",
      " [85 48 15 70 61]\n",
      " [70 52  7 89 72]\n",
      " [69 24 36 80 99]\n",
      " [68 83 58 78 47]\n",
      " [ 4 47 30 87 22]\n",
      " [22 82 24 95 72]\n",
      " [21 28 76  6 50]\n",
      " [87 90 64 83 78]\n",
      " [ 4 57 15 50 88]\n",
      " [53 14 48 50 25]\n",
      " [21 65 53 61 48]\n",
      " [30 61 54 12 41]\n",
      " [92 46 98 25 37]\n",
      " [39 10 53 68 44]\n",
      " [ 2 80 69 69 62]\n",
      " [19 52 15 29 18]\n",
      " [88 47 53 17 71]\n",
      " [72 85 11 63 97]\n",
      " [58 24 87 86 27]\n",
      " [77 67 55 18 66]\n",
      " [58 90  3 81 51]\n",
      " [67 89 80 94  7]\n",
      " [93 43 23 21 26]\n",
      " [98 55 72 73 81]\n",
      " [94 65 64 81 39]\n",
      " [46 36 26 96 76]\n",
      " [73 12 77 80 51]\n",
      " [23 60 67  2 35]\n",
      " [38 58 36 43 45]\n",
      " [50 32 80 86  4]\n",
      " [56 74 94 95 41]\n",
      " [55 89 95 87 18]\n",
      " [69 18 19 61 84]\n",
      " [83  8 68 35 77]\n",
      " [95 21 70 74 60]\n",
      " [35 70 26 79 93]\n",
      " [75 76 34 10 44]\n",
      " [21 83 31  4 47]\n",
      " [30 48 28 82 72]\n",
      " [26 95 58 22 30]\n",
      " [ 7 55 48 48 61]\n",
      " [ 7 76 98 54 45]\n",
      " [99 40 33 88 79]\n",
      " [22 91 15 21  2]\n",
      " [71 26 46 97 33]\n",
      " [32 42 80 88 23]\n",
      " [95 47 72 25 42]\n",
      " [37 32 17 88 23]\n",
      " [97  4 13 72 10]\n",
      " [88 96 40 65 63]\n",
      " [89 77 94 84 96]\n",
      " [69 70 60 53  8]\n",
      " [41 74 87 15 50]\n",
      " [98 26 58 41 18]\n",
      " [33 84 98 28 48]\n",
      " [14 71 16 93 19]\n",
      " [95 49 66 83 35]\n",
      " [ 6 47 84 28 27]\n",
      " [21 88 85 18 60]\n",
      " [65 45  5 52 50]\n",
      " [75 83 38 54 94]\n",
      " [74  6 38 57 36]\n",
      " [16 41 43 72 38]\n",
      " [47 72 92 98 37]\n",
      " [44 28 67 58  4]\n",
      " [56 71 42 68 73]\n",
      " [89 68 76 70 93]\n",
      " [21 16 58 10 70]\n",
      " [98 92 52 55 46]\n",
      " [39 16 43 62  9]\n",
      " [ 4 89 73 42 25]\n",
      " [94 29 96 44 49]\n",
      " [70 43 67 83 67]\n",
      " [89 79 15 54 47]\n",
      " [15 28 69 22 39]\n",
      " [43 31 89 80 57]\n",
      " [66 94 38 88 67]\n",
      " [17 61 26 31 42]\n",
      " [73 46 27 88 66]\n",
      " [61 90 71 34 60]\n",
      " [29 17 50 96 42]\n",
      " [12 87 16 96 92]]\n"
     ]
    }
   ],
   "source": [
    "# Import numpy, pandas,matplotlib, and sklearn. Also set visualizations to be shown inline in the notebook.\n",
    "import numpy as np\n",
    "import pandas as pd\n",
    "import matplotlib.pyplot as plt\n",
    "import sklearn as skl\n",
    "\n",
    "# Set Numpy's Random Seed to 101\n",
    "np.random.seed(101)\n",
    "\n",
    "# Create a NumPy Matrix of 100 rows by 5 columns consisting of random integers from 1-100.\n",
    "# (Keep in mind that the upper limit may be exclusive.\n",
    "numbers = np.random.randint(1, 100, size=(100, 5))\n",
    "print(numbers)"
   ]
  },
  {
   "cell_type": "code",
   "execution_count": 24,
   "id": "b017716d-7ecd-443e-bf6a-ae9fe4e604b5",
   "metadata": {},
   "outputs": [
    {
     "data": {
      "image/png": "[encoded data removed]",
      "text/plain": [
       "<Figure size 640x480 with 2 Axes>"
      ]
     },
     "metadata": {},
     "output_type": "display_data"
    }
   ],
   "source": [
    "# Create a 2-D visualization using plt.imshow of the numpy matrix with a colorbar. Add a title to your plot.\n",
    "# Bonus: Figure out how to change the aspect of the imshow() plot.\n",
    "\n",
    "# \"seismic\" gives blue to red\n",
    "plt.imshow(numbers, cmap=\"seismic\", aspect=\"0.07\")\n",
    "plt.colorbar()  # Add colorbar\n",
    "plt.title(\"My Plot\")\n",
    "plt.show()"
   ]
  },
  {
   "cell_type": "code",
   "execution_count": null,
   "id": "d6b8213b-3c1b-41c5-8ace-75c4fd931073",
   "metadata": {},
   "outputs": [],
   "source": [
    "# Now use pd.DataFrame() to read in this numpy array as a dataframe. \n",
    "# Simple pass in the numparray into that function to get back a dataframe.\n",
    "# Pandas will auto label the columns to 0-4*\n"
   ]
  },
  {
   "cell_type": "code",
   "execution_count": null,
   "id": "ad28ec77-8978-4275-80e6-04908ecb7164",
   "metadata": {},
   "outputs": [],
   "source": [
    "# Now create a scatter plot using pandas of the 0 columns vs the 1 column\n"
   ]
  },
  {
   "cell_type": "code",
   "execution_count": null,
   "id": "45f67076-565e-413f-9575-ce49269a7c25",
   "metadata": {},
   "outputs": [],
   "source": [
    "# Now scale the data to have a minimum of 0 and a maximum value of 1 using scikit-learn\n"
   ]
  },
  {
   "cell_type": "code",
   "execution_count": null,
   "id": "90dc46f1-8fba-4f85-8769-c4f7f617c092",
   "metadata": {},
   "outputs": [],
   "source": [
    "# Using your previously created DataFrame, use df.columns = […] to rename the pandas columns to be [‘f1’,‘f2’,‘f3’,‘f4’,‘label’].\n",
    "# Then perform a train/test split with scikitlearn.**"
   ]
  }
 ],
 "metadata": {
  "kernelspec": {
   "display_name": "Python [conda env:base] *",
   "language": "python",
   "name": "conda-base-py"
  },
  "language_info": {
   "codemirror_mode": {
    "name": "ipython",
    "version": 3
   },
   "file_extension": ".py",
   "mimetype": "text/x-python",
   "name": "python",
   "nbconvert_exporter": "python",
   "pygments_lexer": "ipython3",
   "version": "3.12.3"
  }
 },
 "nbformat": 4,
 "nbformat_minor": 5
}
