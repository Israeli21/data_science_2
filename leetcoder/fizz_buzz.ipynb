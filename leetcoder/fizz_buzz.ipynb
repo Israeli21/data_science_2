{
 "cells": [
  {
   "cell_type": "code",
   "execution_count": 7,
   "id": "9cc94cd8-3873-4724-a37d-4f241f6f1ee1",
   "metadata": {},
   "outputs": [
    {
     "name": "stdout",
     "output_type": "stream",
     "text": [
      "1\n",
      "2\n",
      "Fizz\n",
      "4\n",
      "Buzz\n",
      "Fizz\n",
      "7\n",
      "8\n",
      "Fizz\n",
      "Buzz\n"
     ]
    }
   ],
   "source": [
    "# Leetcode Fizz Buzz\n",
    "class Solution(object):\n",
    "    def fizzBuzz(self, n):\n",
    "        output = []\n",
    "        one = 1\n",
    "        while one != n + 1:\n",
    "            if one % 3 == 0 and one % 5 == 0:\n",
    "                output.append(\"FizzBuzz\")\n",
    "            elif one % 3 == 0:\n",
    "                output.append(\"Fizz\")\n",
    "            elif one % 5 == 0:\n",
    "                output.append(\"Buzz\")\n",
    "            else:\n",
    "                output.append(str(one))\n",
    "            one = one + 1\n",
    "        return output\n",
    "\n",
    "# Create an instance of Solution\n",
    "s = Solution()\n",
    "data = s.fizzBuzz(10)\n",
    "\n",
    "for i in data:\n",
    "    print(i)\n",
    "    \n",
    "\n",
    "# type n: int\n",
    "# rtype: List[str]"
   ]
  },
  {
   "cell_type": "code",
   "execution_count": null,
   "id": "68b1dbed-9ce0-4922-ace4-b93ccbfaf4c2",
   "metadata": {},
   "outputs": [],
   "source": []
  }
 ],
 "metadata": {
  "kernelspec": {
   "display_name": "Python [conda env:base] *",
   "language": "python",
   "name": "conda-base-py"
  },
  "language_info": {
   "codemirror_mode": {
    "name": "ipython",
    "version": 3
   },
   "file_extension": ".py",
   "mimetype": "text/x-python",
   "name": "python",
   "nbconvert_exporter": "python",
   "pygments_lexer": "ipython3",
   "version": "3.12.3"
  }
 },
 "nbformat": 4,
 "nbformat_minor": 5
}
