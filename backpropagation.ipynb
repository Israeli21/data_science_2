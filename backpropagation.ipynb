{
 "cells": [
  {
   "cell_type": "markdown",
   "id": "9a4d12e1-2cfb-42c6-b07c-18b562d6fd63",
   "metadata": {},
   "source": [
    "# Backpropagation"
   ]
  },
  {
   "cell_type": "code",
   "execution_count": 1,
   "id": "efe8890f-db29-4566-80ed-8f7154c29757",
   "metadata": {},
   "outputs": [
    {
     "ename": "NameError",
     "evalue": "name 'X' is not defined",
     "output_type": "error",
     "traceback": [
      "\u001b[1;31m---------------------------------------------------------------------------\u001b[0m",
      "\u001b[1;31mNameError\u001b[0m                                 Traceback (most recent call last)",
      "Cell \u001b[1;32mIn[1], line 10\u001b[0m\n\u001b[0;32m      7\u001b[0m \u001b[38;5;66;03m# Foward & Backward\u001b[39;00m\n\u001b[0;32m      8\u001b[0m \u001b[38;5;28;01mfor\u001b[39;00m epoch \u001b[38;5;129;01min\u001b[39;00m \u001b[38;5;28mrange\u001b[39m(\u001b[38;5;241m1000\u001b[39m):\n\u001b[0;32m      9\u001b[0m     \u001b[38;5;66;03m# Forward\u001b[39;00m\n\u001b[1;32m---> 10\u001b[0m     r \u001b[38;5;241m=\u001b[39m np\u001b[38;5;241m.\u001b[39mdot(X, W) \u001b[38;5;241m+\u001b[39m b\n\u001b[0;32m     11\u001b[0m     a \u001b[38;5;241m=\u001b[39m sigmoid(x)\n\u001b[0;32m     13\u001b[0m     \u001b[38;5;66;03m# Loss Gradient\u001b[39;00m\n",
      "\u001b[1;31mNameError\u001b[0m: name 'X' is not defined"
     ]
    }
   ],
   "source": [
    "import numpy as np\n",
    "\n",
    "# Activation Function\n",
    "def sigmoid(x): return 1/(1+np.exp(-x))\n",
    "def sigmoid_deriv(x): return x * (1-x)\n",
    "\n",
    "# Foward & Backward\n",
    "for epoch in range(1000):\n",
    "    # Forward\n",
    "    r = np.dot(X, W) + b\n",
    "    a = sigmoid(x)\n",
    "\n",
    "    # Loss Gradient\n",
    "    dz = (a - y) * sigmoid_deriv(a)\n",
    "    dW = np.dot(X.T, dz)\n",
    "    db = np.sum(dz)\n",
    "\n",
    "    # Update\n",
    "    W -= lr * dW\n",
    "    b -= lr * db"
   ]
  },
  {
   "cell_type": "code",
   "execution_count": null,
   "id": "1a973ebe-fe71-4bc1-a71b-b17d0ae3450b",
   "metadata": {},
   "outputs": [],
   "source": [
    "import numpy as np\n",
    "\n",
    "# XOR Input and Output\n",
    "X = np.array([[0, 0], [0, 1], [1, 0], [1, 1]])\n",
    "y = np.array([[0], [1], [1], [0]])\n",
    "\n",
    "# Sigmoid Activation Function\n",
    "def sigmoid(x):\n",
    "    return 1 / (1 + np.exp(-x))\n",
    "\n",
    "def sigmoid_derivative(x):\n",
    "    return x * (1 - x)\n",
    "\n",
    "# Initialize weights randomly\n",
    "np.random.seed(42)\n",
    "input_layer_neurons = 2\n",
    "hidden_layer_neurons = 2\n",
    "output_neurons = 1\n",
    "\n",
    "# Weight Matricies\n",
    "wh = np.random.uniform(size=(input_layer_neurons, hidden_layer_neurons))\n",
    "bh = np.random.uniform(size=(1, hidden_layer_neurons))\n",
    "wout = np.random.uniform(size=(hidden_layer_neurons, output_neurons))\n",
    "bout = np.random.uniform(size=(1, output_neurons))\n",
    "\n",
    "# Training Parameters\n",
    "lr = 0.1\n",
    "epochs = 10000\n",
    "\n",
    "# Training Loop\n",
    "for epoch in range(epochs):\n",
    "    # Forward Propagation:\n",
    "    r = np.dot(X, W) + b\n",
    "    a = sigmoid(x)\n",
    "\n",
    "    # Loss Gradient\n",
    "    dz = (a - y) * sigmoid_deriv(a)\n",
    "    dW = np.dot(X.T, dz)\n",
    "    db = np.sum(dz)\n",
    "\n",
    "    # Update\n",
    "    W -= lr * dW\n",
    "    b -= lr * db\n",
    "\n",
    "    # Compute: hidden_input, hidden_output, final_output\n",
    "\n",
    "# Calculate Error\n",
    "# Backpropagation\n",
    "d_output =\n",
    "error_hidden =\n",
    "d_hidden =\n",
    "\n",
    "# Update weights and biases\n",
    "wout += hidden_output.T.dot(d_output) * lr\n",
    "bout += np.sum(d_output, axis=0, keepdims=True) * lr\n",
    "wh += X.T.dot(d_hidden) * lr\n",
    "bh += np.sum(d_hidden, axis=0, keepdims=True) * lr\n",
    "\n",
    "# Print loss every 1000 epochs\n",
    "if epoch % 1000 == 0:\n",
    "    loss = np.mean(np.square(error))\n",
    "    print(f\"Epoch {epoch}, Loss: {loss:.4f}\")\n",
    "\n",
    "# Final output\n",
    "print(\"\\nTrained output:\")\n",
    "print(final_output)"
   ]
  }
 ],
 "metadata": {
  "kernelspec": {
   "display_name": "Python [conda env:base] *",
   "language": "python",
   "name": "conda-base-py"
  },
  "language_info": {
   "codemirror_mode": {
    "name": "ipython",
    "version": 3
   },
   "file_extension": ".py",
   "mimetype": "text/x-python",
   "name": "python",
   "nbconvert_exporter": "python",
   "pygments_lexer": "ipython3",
   "version": "3.12.3"
  }
 },
 "nbformat": 4,
 "nbformat_minor": 5
}
