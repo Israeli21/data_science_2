{
 "cells": [
  {
   "cell_type": "code",
   "execution_count": null,
   "id": "059fa694-73c6-4c41-a15f-bfd6d48e3199",
   "metadata": {},
   "outputs": [],
   "source": []
  }
 ],
 "metadata": {
  "kernelspec": {
   "display_name": "",
   "name": ""
  },
  "language_info": {
   "name": ""
  }
 },
 "nbformat": 4,
 "nbformat_minor": 5
}
